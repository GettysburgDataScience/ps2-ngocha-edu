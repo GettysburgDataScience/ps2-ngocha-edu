{
 "cells": [
  {
   "cell_type": "markdown",
   "metadata": {},
   "source": [
    "Jack Joiner\n",
    " - Quinn O'Conner (the GOAT)\n",
    " "
   ]
  },
  {
   "cell_type": "markdown",
   "metadata": {},
   "source": [
    "DS325, Gettysburg College, Professor Eatai Roth\n",
    "# Problem Set 2 - Classification\n",
    "\n",
    "Due Friday Mar 28, 2025 4p\n",
    "\n",
    "Total pts: 30\n",
    "\n",
    "## IMPORTANT INSTRUCTIONS:\n",
    "\n",
    " - When you submit your code, make sure that every cell runs without returning an error.\n",
    " - Once you have the results you need, edit out any extraneous code and outputs.\n",
    " - *Do not rewrite code* if it doesn't need to be rewritten. For example, all the import statements you should need are in the first code block. Do not redo those in your analysis."
   ]
  },
  {
   "cell_type": "markdown",
   "metadata": {},
   "source": [
    "## Problem 1\n",
    "\n",
    "In this problem, you'll be comparing Logistic Regression, Decision Trees, and Random Forests in a task identifying mushrooms as edible or poisonous.\n",
    "The data is imported below and the features and feature values are listed. Notice, they're all letters.\n",
    "\n",
    " - Split the data into targets and features\n",
    " - Decide which features are ordinal or categorical. Refer to the feature descriptions on the [UCI Machine Learning site](https://archive.ics.uci.edu/dataset/73/mushroom) (hint: at least 3 categories are ordinal and others are binary...so you'll use an ordinal encoder)\n",
    " - Encode the features\n",
    " - Train the three models. You will want to use ```LogisticRegressionCV``` and ```GridSearchCV``` to find the best version of each model.\n",
    " - Make predictions with your models.\n",
    " - Show the confusion matrices for each type of model evaluated on the same test set. Label each figure clearly as to which model it is."
   ]
  },
  {
   "cell_type": "code",
   "execution_count": 1,
   "metadata": {},
   "outputs": [
    {
     "name": "stdout",
     "output_type": "stream",
     "text": [
      "  0. type - ['p' 'e']\n",
      "  1. cap_shape - ['x' 'b' 's' 'f' 'k' 'c']\n",
      "  2. cap_surface - ['s' 'y' 'f' 'g']\n",
      "  3. cap_color - ['n' 'y' 'w' 'g' 'e' 'p' 'b' 'u' 'c' 'r']\n",
      "  4. bruises - ['t' 'f']\n",
      "  5. odor - ['p' 'a' 'l' 'n' 'f' 'c' 'y' 's' 'm']\n",
      "  6. gill_attachment - ['f' 'a']\n",
      "  7. gill_spacing - ['c' 'w']\n",
      "  8. gill_size - ['n' 'b']\n",
      "  9. gill_color - ['k' 'n' 'g' 'p' 'w' 'h' 'u' 'e' 'b' 'r' 'y' 'o']\n",
      " 10. stalk_shape - ['e' 't']\n",
      " 11. stalk_root - ['e' 'c' 'b' 'r' '?']\n",
      " 12. stalk_surface_above_ring - ['s' 'f' 'k' 'y']\n",
      " 13. stalk_surface_below_ring - ['s' 'f' 'y' 'k']\n",
      " 14. stalk_color_above_ring - ['w' 'g' 'p' 'n' 'b' 'e' 'o' 'c' 'y']\n",
      " 15. stalk_color_below_ring - ['w' 'p' 'g' 'b' 'n' 'e' 'y' 'o' 'c']\n",
      " 16. veil_type - ['p']\n",
      " 17. veil_color - ['w' 'n' 'o' 'y']\n",
      " 18. ring_number - ['o' 't' 'n']\n",
      " 19. ring_type - ['p' 'e' 'l' 'f' 'n']\n",
      " 20. spore_print_color - ['k' 'n' 'u' 'h' 'w' 'r' 'o' 'y' 'b']\n",
      " 21. population - ['s' 'n' 'a' 'v' 'y' 'c']\n",
      " 22. habitat - ['u' 'g' 'm' 'd' 'p' 'w' 'l']\n"
     ]
    }
   ],
   "source": [
    "import pandas as pd\n",
    "from sklearn.model_selection import train_test_split, GridSearchCV\n",
    "from sklearn.preprocessing import OneHotEncoder, OrdinalEncoder, LabelEncoder, StandardScaler\n",
    "from sklearn.compose import ColumnTransformer\n",
    "from sklearn.linear_model import LogisticRegressionCV\n",
    "from sklearn.tree import DecisionTreeClassifier\n",
    "from sklearn.ensemble import RandomForestClassifier\n",
    "from sklearn.metrics import classification_report\n",
    "from sklearn.metrics import confusion_matrix, ConfusionMatrixDisplay\n",
    "import matplotlib.pyplot as plt\n",
    "\n",
    "\n",
    "mushrooms_df = pd.read_csv('https://raw.githubusercontent.com/stedy/Machine-Learning-with-R-datasets/refs/heads/master/mushrooms.csv')\n",
    "\n",
    "for k, col in enumerate(mushrooms_df.columns):\n",
    "    print(f'{k:>3}. {col} - {mushrooms_df[col].unique()}')"
   ]
  },
  {
   "cell_type": "code",
   "execution_count": 2,
   "metadata": {},
   "outputs": [],
   "source": [
    "y = mushrooms_df['type']\n",
    "X = mushrooms_df.drop(columns=['type'])\n",
    "\n",
    "ordinal_features = ['gill_attachment', 'gill_spacing', 'gill_size', 'stalk_shape', 'bruises', 'ring_number']\n",
    "ordEnc = OrdinalEncoder()\n",
    "\n",
    "cat_features = [col for col in X.columns if col not in ordinal_features]\n",
    "hotEnc = OneHotEncoder(sparse_output=False, handle_unknown='ignore')  \n",
    "\n",
    "ct = ColumnTransformer([\n",
    "    ('hotEnc', hotEnc, cat_features),\n",
    "    ('ordEnc', ordEnc, ordinal_features)\n",
    "],\n",
    "                       remainder='passthrough',\n",
    "                       verbose_feature_names_out=False) \n",
    "\n",
    "X_train, X_test, y_train, y_test = train_test_split(X, y, test_size=0.2, random_state=42)\n",
    "\n"
   ]
  },
  {
   "cell_type": "code",
   "execution_count": 3,
   "metadata": {},
   "outputs": [],
   "source": [
    "X_train_transform = ct.fit_transform(X_train)\n",
    "X_test_transform = ct.transform(X_test)\n",
    "\n",
    "labEnc = LabelEncoder()\n",
    "y_train_trans = labEnc.fit_transform(y_train)\n",
    "y_test_trans = labEnc.transform(y_test)\n",
    "\n",
    "log_reg = LogisticRegressionCV(cv=5, max_iter=1000, random_state=42)\n",
    "log_reg.fit(X_train_transform, y_train_trans)\n",
    "y_pred_log_reg = log_reg.predict(X_test_transform)\n",
    "\n",
    "dt_params = {'max_depth': [3, 5, 10, None], 'min_samples_split': [2, 5, 10]}\n",
    "dt = GridSearchCV(DecisionTreeClassifier(random_state=42), dt_params, cv=5)\n",
    "dt.fit(X_train_transform, y_train_trans)\n",
    "y_pred_dt = dt.best_estimator_.predict(X_test_transform)\n",
    "\n",
    "rf_params = {'n_estimators': [50, 100, 200], 'max_depth': [3, 5, 10, None]}\n",
    "rf = GridSearchCV(RandomForestClassifier(random_state=42), rf_params, cv=5)\n",
    "rf.fit(X_train_transform, y_train_trans)\n",
    "y_pred_rf = rf.best_estimator_.predict(X_test_transform)\n"
   ]
  },
  {
   "cell_type": "code",
   "execution_count": 4,
   "metadata": {},
   "outputs": [
    {
     "data": {
      "image/png": "[encoded data removed]",
      "text/plain": [
       "<Figure size 640x480 with 2 Axes>"
      ]
     },
     "metadata": {},
     "output_type": "display_data"
    },
    {
     "data": {
      "image/png": "[encoded data removed]",
      "text/plain": [
       "<Figure size 640x480 with 2 Axes>"
      ]
     },
     "metadata": {},
     "output_type": "display_data"
    },
    {
     "data": {
      "image/png": "[encoded data removed]",
      "text/plain": [
       "<Figure size 640x480 with 2 Axes>"
      ]
     },
     "metadata": {},
     "output_type": "display_data"
    },
    {
     "name": "stdout",
     "output_type": "stream",
     "text": [
      "Classification Report for Logistic Regression:\n",
      "\n",
      "              precision    recall  f1-score   support\n",
      "\n",
      "           e       1.00      1.00      1.00       843\n",
      "           p       1.00      1.00      1.00       782\n",
      "\n",
      "    accuracy                           1.00      1625\n",
      "   macro avg       1.00      1.00      1.00      1625\n",
      "weighted avg       1.00      1.00      1.00      1625\n",
      "\n",
      "Classification Report for Decision Tree:\n",
      "\n",
      "              precision    recall  f1-score   support\n",
      "\n",
      "           e       1.00      1.00      1.00       843\n",
      "           p       1.00      1.00      1.00       782\n",
      "\n",
      "    accuracy                           1.00      1625\n",
      "   macro avg       1.00      1.00      1.00      1625\n",
      "weighted avg       1.00      1.00      1.00      1625\n",
      "\n",
      "Classification Report for Random Forest:\n",
      "\n",
      "              precision    recall  f1-score   support\n",
      "\n",
      "           e       1.00      1.00      1.00       843\n",
      "           p       1.00      1.00      1.00       782\n",
      "\n",
      "    accuracy                           1.00      1625\n",
      "   macro avg       1.00      1.00      1.00      1625\n",
      "weighted avg       1.00      1.00      1.00      1625\n",
      "\n"
     ]
    }
   ],
   "source": [
    "models = {\n",
    "    \"Logistic Regression\": y_pred_log_reg,\n",
    "    \"Decision Tree\": y_pred_dt,\n",
    "    \"Random Forest\": y_pred_rf\n",
    "}\n",
    "\n",
    "for model_name, y_pred in models.items():\n",
    "    cm = confusion_matrix(y_test_trans, y_pred)\n",
    "    disp = ConfusionMatrixDisplay(confusion_matrix=cm, display_labels=labEnc.classes_)\n",
    "    disp.plot(cmap=plt.cm.Reds)\n",
    "    plt.title(f\"Confusion Matrix: {model_name}\")\n",
    "    plt.show()\n",
    "\n",
    "# Print classification reports\n",
    "for model_name, y_pred in models.items():\n",
    "    print(f\"Classification Report for {model_name}:\\n\")\n",
    "    print(classification_report(y_test_trans, y_pred, target_names=labEnc.classes_))"
   ]
  },
  {
   "cell_type": "markdown",
   "metadata": {},
   "source": [
    "### Problem 1 questions\n",
    "\n",
    " - Which model was best?\n",
    " - What were the hyper-parameters of this model.\n",
    " - What were the accuracy, recall, and precision of the model.\n",
    " - Of accuracy, recall, precision, which did you use to decide the best model."
   ]
  },
  {
   "cell_type": "markdown",
   "metadata": {},
   "source": [
    "#### Your responses here:\n",
    "\n",
    "- Which model: Every model would work\n",
    "- Hyper-parameters: max_depth, min_samples_split, n_estimators\n",
    "- Metrics\n",
    "    - Accuracy: 1\n",
    "    - Recall: 1\n",
    "    - Precision: 1\n",
    "- How did you decide best? \n",
    "\n",
    "Data set is flawed, with the feature \"odor\" perfectly seperating Edible from Poisonous. Because of this, all models have perfect accuracy, recall and precision scores. \n"
   ]
  },
  {
   "cell_type": "markdown",
   "metadata": {},
   "source": [
    "## Problem 2\n",
    "\n",
    "The NFL draft is coming up at the end of April. This is when NFL teams get to select college players to join their team. The draft comprises seven rounds over three days (day 1: round 1, day 2: rounds 2 and 3, day 3: rounds 4, 5, 6, 7) with teams taking turns selecting players. Better players tend to go in earlier rounds.\n",
    "\n",
    "In this problem, you will try to predict whether defensive players are drafted on Day 1, 2, or 3 based on their performance in the NFL combine (an assay of physical skills).\n",
    "\n",
    "The data are imported below.\n",
    "\n",
    " - Create a target variable for day 1, day 2, day 3 based on the round drafted.\n",
    " - Create the most accurate predictor you can using any method or subset of the data you choose. *You may not use round as a feature!*\n",
    " - Show the confusion matrix for your model and list the accuracy of your model."
   ]
  },
  {
   "cell_type": "markdown",
   "metadata": {},
   "source": []
  },
  {
   "cell_type": "code",
   "execution_count": 5,
   "metadata": {},
   "outputs": [
    {
     "data": {
      "application/vnd.microsoft.datawrangler.viewer.v0+json": {
       "columns": [
        {
         "name": "index",
         "rawType": "int64",
         "type": "integer"
        },
        {
         "name": "Unnamed: 0",
         "rawType": "int64",
         "type": "integer"
        },
        {
         "name": "round",
         "rawType": "int64",
         "type": "integer"
        },
        {
         "name": "season",
         "rawType": "int64",
         "type": "integer"
        },
        {
         "name": "name",
         "rawType": "object",
         "type": "string"
        },
        {
         "name": "age",
         "rawType": "float64",
         "type": "float"
        },
        {
         "name": "position",
         "rawType": "object",
         "type": "string"
        },
        {
         "name": "college_conference",
         "rawType": "object",
         "type": "unknown"
        },
        {
         "name": "height",
         "rawType": "float64",
         "type": "float"
        },
        {
         "name": "weight",
         "rawType": "float64",
         "type": "float"
        },
        {
         "name": "forty",
         "rawType": "float64",
         "type": "float"
        },
        {
         "name": "vertical",
         "rawType": "float64",
         "type": "float"
        },
        {
         "name": "broad_jump",
         "rawType": "float64",
         "type": "float"
        },
        {
         "name": "cone",
         "rawType": "float64",
         "type": "float"
        },
        {
         "name": "shuttle",
         "rawType": "float64",
         "type": "float"
        }
       ],
       "conversionMethod": "pd.DataFrame",
       "ref": "1057a217-1454-453f-9d64-a2a0f7e1f11f",
       "rows": [
        [
         "0",
         "0",
         "1",
         "2003",
         "Dewayne Robertson",
         "21.0",
         "DL",
         null,
         "6.083333333333333",
         "317.0",
         "5.15",
         null,
         null,
         null,
         null
        ],
        [
         "1",
         "1",
         "1",
         "2003",
         "Terence Newman",
         "25.0",
         "DB",
         "Big Twelve Conference",
         "5.833333333333333",
         "189.0",
         "4.37",
         "41.0",
         "136.0",
         "6.88",
         "3.83"
        ],
        [
         "2",
         "2",
         "1",
         "2003",
         "Johnathan Sullivan",
         "22.0",
         "DL",
         null,
         "6.25",
         "313.0",
         "5.1",
         null,
         null,
         null,
         null
        ],
        [
         "3",
         "3",
         "1",
         "2003",
         "Kevin Williams",
         "23.0",
         "DL",
         null,
         "6.416666666666667",
         "304.0",
         "4.81",
         "30.0",
         "112.0",
         "7.66",
         "5.04"
        ],
        [
         "4",
         "4",
         "1",
         "2003",
         "Terrell Suggs",
         "20.0",
         "LB",
         "Pacific Ten Conference",
         "6.25",
         "262.0",
         "4.84",
         null,
         null,
         null,
         null
        ]
       ],
       "shape": {
        "columns": 14,
        "rows": 5
       }
      },
      "text/html": [
       "<div>\n",
       "<style scoped>\n",
       "    .dataframe tbody tr th:only-of-type {\n",
       "        vertical-align: middle;\n",
       "    }\n",
       "\n",
       "    .dataframe tbody tr th {\n",
       "        vertical-align: top;\n",
       "    }\n",
       "\n",
       "    .dataframe thead th {\n",
       "        text-align: right;\n",
       "    }\n",
       "</style>\n",
       "<table border=\"1\" class=\"dataframe\">\n",
       "  <thead>\n",
       "    <tr style=\"text-align: right;\">\n",
       "      <th></th>\n",
       "      <th>Unnamed: 0</th>\n",
       "      <th>round</th>\n",
       "      <th>season</th>\n",
       "      <th>name</th>\n",
       "      <th>age</th>\n",
       "      <th>position</th>\n",
       "      <th>college_conference</th>\n",
       "      <th>height</th>\n",
       "      <th>weight</th>\n",
       "      <th>forty</th>\n",
       "      <th>vertical</th>\n",
       "      <th>broad_jump</th>\n",
       "      <th>cone</th>\n",
       "      <th>shuttle</th>\n",
       "    </tr>\n",
       "  </thead>\n",
       "  <tbody>\n",
       "    <tr>\n",
       "      <th>0</th>\n",
       "      <td>0</td>\n",
       "      <td>1</td>\n",
       "      <td>2003</td>\n",
       "      <td>Dewayne Robertson</td>\n",
       "      <td>21.0</td>\n",
       "      <td>DL</td>\n",
       "      <td>NaN</td>\n",
       "      <td>6.083333</td>\n",
       "      <td>317.0</td>\n",
       "      <td>5.15</td>\n",
       "      <td>NaN</td>\n",
       "      <td>NaN</td>\n",
       "      <td>NaN</td>\n",
       "      <td>NaN</td>\n",
       "    </tr>\n",
       "    <tr>\n",
       "      <th>1</th>\n",
       "      <td>1</td>\n",
       "      <td>1</td>\n",
       "      <td>2003</td>\n",
       "      <td>Terence Newman</td>\n",
       "      <td>25.0</td>\n",
       "      <td>DB</td>\n",
       "      <td>Big Twelve Conference</td>\n",
       "      <td>5.833333</td>\n",
       "      <td>189.0</td>\n",
       "      <td>4.37</td>\n",
       "      <td>41.0</td>\n",
       "      <td>136.0</td>\n",
       "      <td>6.88</td>\n",
       "      <td>3.83</td>\n",
       "    </tr>\n",
       "    <tr>\n",
       "      <th>2</th>\n",
       "      <td>2</td>\n",
       "      <td>1</td>\n",
       "      <td>2003</td>\n",
       "      <td>Johnathan Sullivan</td>\n",
       "      <td>22.0</td>\n",
       "      <td>DL</td>\n",
       "      <td>NaN</td>\n",
       "      <td>6.250000</td>\n",
       "      <td>313.0</td>\n",
       "      <td>5.10</td>\n",
       "      <td>NaN</td>\n",
       "      <td>NaN</td>\n",
       "      <td>NaN</td>\n",
       "      <td>NaN</td>\n",
       "    </tr>\n",
       "    <tr>\n",
       "      <th>3</th>\n",
       "      <td>3</td>\n",
       "      <td>1</td>\n",
       "      <td>2003</td>\n",
       "      <td>Kevin Williams</td>\n",
       "      <td>23.0</td>\n",
       "      <td>DL</td>\n",
       "      <td>NaN</td>\n",
       "      <td>6.416667</td>\n",
       "      <td>304.0</td>\n",
       "      <td>4.81</td>\n",
       "      <td>30.0</td>\n",
       "      <td>112.0</td>\n",
       "      <td>7.66</td>\n",
       "      <td>5.04</td>\n",
       "    </tr>\n",
       "    <tr>\n",
       "      <th>4</th>\n",
       "      <td>4</td>\n",
       "      <td>1</td>\n",
       "      <td>2003</td>\n",
       "      <td>Terrell Suggs</td>\n",
       "      <td>20.0</td>\n",
       "      <td>LB</td>\n",
       "      <td>Pacific Ten Conference</td>\n",
       "      <td>6.250000</td>\n",
       "      <td>262.0</td>\n",
       "      <td>4.84</td>\n",
       "      <td>NaN</td>\n",
       "      <td>NaN</td>\n",
       "      <td>NaN</td>\n",
       "      <td>NaN</td>\n",
       "    </tr>\n",
       "  </tbody>\n",
       "</table>\n",
       "</div>"
      ],
      "text/plain": [
       "   Unnamed: 0  round  season                name   age position  \\\n",
       "0           0      1    2003   Dewayne Robertson  21.0       DL   \n",
       "1           1      1    2003      Terence Newman  25.0       DB   \n",
       "2           2      1    2003  Johnathan Sullivan  22.0       DL   \n",
       "3           3      1    2003      Kevin Williams  23.0       DL   \n",
       "4           4      1    2003       Terrell Suggs  20.0       LB   \n",
       "\n",
       "       college_conference    height  weight  forty  vertical  broad_jump  \\\n",
       "0                     NaN  6.083333   317.0   5.15       NaN         NaN   \n",
       "1   Big Twelve Conference  5.833333   189.0   4.37      41.0       136.0   \n",
       "2                     NaN  6.250000   313.0   5.10       NaN         NaN   \n",
       "3                     NaN  6.416667   304.0   4.81      30.0       112.0   \n",
       "4  Pacific Ten Conference  6.250000   262.0   4.84       NaN         NaN   \n",
       "\n",
       "   cone  shuttle  \n",
       "0   NaN      NaN  \n",
       "1  6.88     3.83  \n",
       "2   NaN      NaN  \n",
       "3  7.66     5.04  \n",
       "4   NaN      NaN  "
      ]
     },
     "execution_count": 5,
     "metadata": {},
     "output_type": "execute_result"
    }
   ],
   "source": [
    "import pandas as pd\n",
    "import numpy as np\n",
    "import matplotlib.pyplot as plt\n",
    "import seaborn as sns\n",
    "from sklearn.model_selection import train_test_split\n",
    "from sklearn.preprocessing import StandardScaler\n",
    "from sklearn.ensemble import RandomForestClassifier\n",
    "from sklearn.impute import SimpleImputer\n",
    "from sklearn.metrics import confusion_matrix, classification_report, accuracy_score\n",
    "\n",
    "\n",
    "nfl_draft = pd.read_csv('https://raw.githubusercontent.com/eatai/datasets/refs/heads/main/nfl_defensive_draft.csv')\n",
    "\n",
    "nfl_draft.head()\n"
   ]
  },
  {
   "cell_type": "code",
   "execution_count": 6,
   "metadata": {},
   "outputs": [
    {
     "name": "stdout",
     "output_type": "stream",
     "text": [
      "Accuracy: 0.54\n"
     ]
    },
    {
     "data": {
      "image/png": "[encoded data removed]",
      "text/plain": [
       "<Figure size 640x480 with 2 Axes>"
      ]
     },
     "metadata": {},
     "output_type": "display_data"
    }
   ],
   "source": [
    "def map_draft_day(round_num):\n",
    "    if round_num == 1:\n",
    "        return 1\n",
    "    elif round_num in [2, 3]:\n",
    "        return 2\n",
    "    else:\n",
    "        return 3\n",
    "\n",
    "nfl_draft['draft_day'] = nfl_draft['round'].apply(map_draft_day)\n",
    "\n",
    "features = ['weight', 'forty', 'vertical', 'broad_jump', 'cone', 'shuttle', 'height', 'age']\n",
    "X = nfl_draft[features]\n",
    "y = nfl_draft['draft_day']\n",
    "\n",
    "scaler = StandardScaler()\n",
    "X_scaled = scaler.fit_transform(X)\n",
    "\n",
    "X_train, X_test, y_train, y_test = train_test_split(X_scaled, y, test_size=0.2, random_state=42)\n",
    "\n",
    "param_grid = {\n",
    "    'n_estimators': [50, 100, 200],\n",
    "    'max_depth': [None, 10, 20],\n",
    "    'min_samples_split': [2, 5, 10]\n",
    "}\n",
    "\n",
    "grid_search = GridSearchCV(RandomForestClassifier(random_state=42), param_grid, cv=5, scoring='accuracy')\n",
    "grid_search.fit(X_train, y_train)\n",
    "best_model = grid_search.best_estimator_\n",
    "\n",
    "y_pred = best_model.predict(X_test)\n",
    "\n",
    "accuracy = accuracy_score(y_test, y_pred)\n",
    "print(f\"Accuracy: {accuracy:.2f}\")\n",
    "\n",
    "conf_matrix = confusion_matrix(y_test, y_pred)\n",
    "disp = ConfusionMatrixDisplay(confusion_matrix=conf_matrix, display_labels=[1, 2, 3])\n",
    "disp.plot(cmap=plt.cm.Reds)\n",
    "plt.title(\"Confusion Matrix\")\n",
    "plt.show()\n"
   ]
  },
  {
   "cell_type": "markdown",
   "metadata": {},
   "source": [
    "### Problem 2 Questions\n",
    "\n",
    " - Which kind of model did you use and why did you choose it?\n",
    "    I chose a Random Forest since the dataset has a lot of missing values in each columns, which Random Forests can handle quite effectively. \n",
    " - What was your accuracy?\n",
    "    I got an accuracy of .54"
   ]
  }
 ],
 "metadata": {
  "kernelspec": {
   "display_name": "base",
   "language": "python",
   "name": "python3"
  },
  "language_info": {
   "codemirror_mode": {
    "name": "ipython",
    "version": 3
   },
   "file_extension": ".py",
   "mimetype": "text/x-python",
   "name": "python",
   "nbconvert_exporter": "python",
   "pygments_lexer": "ipython3",
   "version": "3.12.7"
  },
  "orig_nbformat": 4
 },
 "nbformat": 4,
 "nbformat_minor": 2
}
